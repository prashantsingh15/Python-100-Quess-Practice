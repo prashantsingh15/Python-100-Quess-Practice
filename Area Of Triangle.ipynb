{
 "cells": [
  {
   "cell_type": "markdown",
   "id": "bfb8fb09",
   "metadata": {},
   "source": [
    "# Find area of Triangle\n"
   ]
  },
  {
   "cell_type": "code",
   "execution_count": 1,
   "id": "2bef468d",
   "metadata": {},
   "outputs": [
    {
     "name": "stdout",
     "output_type": "stream",
     "text": [
      "Enter the breadth: 10\n",
      "Enter the height: 20\n",
      "area of triangle is:  100.0\n"
     ]
    }
   ],
   "source": [
    "b = int(input(\"Enter the breadth: \"))\n",
    "h = int(input(\"Enter the height: \"))\n",
    "\n",
    "area = 1/2 * b * h\n",
    "\n",
    "print(\"area of triangle is: \",area)"
   ]
  },
  {
   "cell_type": "code",
   "execution_count": null,
   "id": "cb1b647c",
   "metadata": {},
   "outputs": [],
   "source": []
  }
 ],
 "metadata": {
  "kernelspec": {
   "display_name": "Python 3 (ipykernel)",
   "language": "python",
   "name": "python3"
  },
  "language_info": {
   "codemirror_mode": {
    "name": "ipython",
    "version": 3
   },
   "file_extension": ".py",
   "mimetype": "text/x-python",
   "name": "python",
   "nbconvert_exporter": "python",
   "pygments_lexer": "ipython3",
   "version": "3.11.5"
  }
 },
 "nbformat": 4,
 "nbformat_minor": 5
}
