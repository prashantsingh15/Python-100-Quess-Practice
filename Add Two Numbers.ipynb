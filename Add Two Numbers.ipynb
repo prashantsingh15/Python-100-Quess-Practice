{
 "cells": [
  {
   "cell_type": "markdown",
   "id": "e0651cc5",
   "metadata": {},
   "source": [
    "## Write a program to add Two numbers in Python"
   ]
  },
  {
   "cell_type": "code",
   "execution_count": 4,
   "id": "5307943e",
   "metadata": {},
   "outputs": [
    {
     "name": "stdout",
     "output_type": "stream",
     "text": [
      "Enter the Number you want to add: 10\n",
      "Enter the second number you want to add: 20\n",
      "The addition of two number is : 30\n"
     ]
    }
   ],
   "source": [
    "# Using user input\n",
    "\n",
    "num = int(input(\"Enter the Number you want to add: \"))\n",
    "num2 = int(input(\"Enter the second number you want to add: \"))\n",
    "\n",
    "print(\"The addition of two number is :\", num+num2)"
   ]
  },
  {
   "cell_type": "code",
   "execution_count": 6,
   "id": "92c6b58f",
   "metadata": {},
   "outputs": [
    {
     "name": "stdout",
     "output_type": "stream",
     "text": [
      "the sum of two number is : 30\n"
     ]
    }
   ],
   "source": [
    "# with pre defined variables\n",
    "\n",
    "num= 10\n",
    "num1 = 20\n",
    "\n",
    "print(\"the sum of two number is :\",num + num1)"
   ]
  },
  {
   "cell_type": "code",
   "execution_count": null,
   "id": "f4ef7efc",
   "metadata": {},
   "outputs": [],
   "source": []
  }
 ],
 "metadata": {
  "kernelspec": {
   "display_name": "Python 3 (ipykernel)",
   "language": "python",
   "name": "python3"
  },
  "language_info": {
   "codemirror_mode": {
    "name": "ipython",
    "version": 3
   },
   "file_extension": ".py",
   "mimetype": "text/x-python",
   "name": "python",
   "nbconvert_exporter": "python",
   "pygments_lexer": "ipython3",
   "version": "3.11.5"
  }
 },
 "nbformat": 4,
 "nbformat_minor": 5
}
