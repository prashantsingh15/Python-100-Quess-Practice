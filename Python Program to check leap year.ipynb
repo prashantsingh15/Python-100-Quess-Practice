{
 "cells": [
  {
   "cell_type": "code",
   "execution_count": 7,
   "id": "83ef0882",
   "metadata": {},
   "outputs": [
    {
     "name": "stdout",
     "output_type": "stream",
     "text": [
      "Enter the year you want to check...2024\n",
      "It is leap year..\n"
     ]
    }
   ],
   "source": [
    "year = int(input(\"Enter the year you want to check...\"))\n",
    "\n",
    "if (year % 4 ==0 and year % 100 != 0) or (year % 400==0):\n",
    "    print(\"It is leap year..\")\n",
    "    \n",
    "else:\n",
    "    print(\"It is not leap year..\")\n",
    "\n"
   ]
  },
  {
   "cell_type": "code",
   "execution_count": null,
   "id": "b5d04457",
   "metadata": {},
   "outputs": [],
   "source": []
  },
  {
   "cell_type": "code",
   "execution_count": null,
   "id": "e7708c90",
   "metadata": {},
   "outputs": [],
   "source": []
  }
 ],
 "metadata": {
  "kernelspec": {
   "display_name": "Python 3 (ipykernel)",
   "language": "python",
   "name": "python3"
  },
  "language_info": {
   "codemirror_mode": {
    "name": "ipython",
    "version": 3
   },
   "file_extension": ".py",
   "mimetype": "text/x-python",
   "name": "python",
   "nbconvert_exporter": "python",
   "pygments_lexer": "ipython3",
   "version": "3.11.5"
  }
 },
 "nbformat": 4,
 "nbformat_minor": 5
}
