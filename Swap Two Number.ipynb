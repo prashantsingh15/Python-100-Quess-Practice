{
 "cells": [
  {
   "cell_type": "markdown",
   "id": "8c87179b",
   "metadata": {},
   "source": [
    "# Swap Two Varibales in Python\n"
   ]
  },
  {
   "cell_type": "code",
   "execution_count": 4,
   "id": "6e2a91da",
   "metadata": {},
   "outputs": [
    {
     "name": "stdout",
     "output_type": "stream",
     "text": [
      "Enter the 1st number : 10\n",
      "Enter the 2nd Number: 20\n",
      "Before Swapped value of a is :  10\n",
      "Before Swapped value of b is :  20\n",
      "Here is the swapped value  of a 20 , value of b 10\n"
     ]
    }
   ],
   "source": [
    "# Using Two Variable only\n",
    "\n",
    "a = int(input(\"Enter the 1st number : \"))\n",
    "b = int(input(\"Enter the 2nd Number: \"))\n",
    "print(\"Before Swapped value of a is : \", a)\n",
    "print(\"Before Swapped value of b is : \", b)\n",
    "\n",
    "a = a + b\n",
    "b = a - b\n",
    "a = a - b\n",
    "\n",
    "print(f\"Here is the swapped value  of a {a} , value of b {b}\")\n"
   ]
  },
  {
   "cell_type": "code",
   "execution_count": 28,
   "id": "5150d3f6",
   "metadata": {},
   "outputs": [
    {
     "name": "stdout",
     "output_type": "stream",
     "text": [
      "Befor Swapped\n",
      " a :   10 b :  20\n",
      "Swapped a: 20\n",
      "Swapped b: 10\n"
     ]
    }
   ],
   "source": [
    "a = 10\n",
    "b = 20\n",
    "\n",
    "print(\"Befor Swapped\")\n",
    "print(\" a :  \", a , \"b : \", b)\n",
    "\n",
    "temp = a\n",
    "a = b\n",
    "b = temp\n",
    "\n",
    "print(\"Swapped a:\", a)\n",
    "print(\"Swapped b:\", b)\n",
    "\n",
    "\n",
    "\n"
   ]
  },
  {
   "cell_type": "code",
   "execution_count": 30,
   "id": "1c4955f0",
   "metadata": {},
   "outputs": [
    {
     "name": "stdout",
     "output_type": "stream",
     "text": [
      "Enter the number a: 10\n",
      "Enter the number b: 20\n",
      "Swapped value of a is:  20\n",
      "Swapped value of b is:  10\n"
     ]
    }
   ],
   "source": [
    "a = int(input(\"Enter the number a: \"))\n",
    "b = int(input(\"Enter the number b: \"))\n",
    "\n",
    "a ,b = b , a\n",
    "\n",
    "print(\"Swapped value of a is: \", a)\n",
    "print(\"Swapped value of b is: \", b)"
   ]
  },
  {
   "cell_type": "code",
   "execution_count": null,
   "id": "cfb5b8aa",
   "metadata": {},
   "outputs": [],
   "source": []
  }
 ],
 "metadata": {
  "kernelspec": {
   "display_name": "Python 3 (ipykernel)",
   "language": "python",
   "name": "python3"
  },
  "language_info": {
   "codemirror_mode": {
    "name": "ipython",
    "version": 3
   },
   "file_extension": ".py",
   "mimetype": "text/x-python",
   "name": "python",
   "nbconvert_exporter": "python",
   "pygments_lexer": "ipython3",
   "version": "3.11.5"
  }
 },
 "nbformat": 4,
 "nbformat_minor": 5
}
