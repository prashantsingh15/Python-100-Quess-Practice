{
 "cells": [
  {
   "cell_type": "markdown",
   "id": "a910330e",
   "metadata": {},
   "source": [
    "# Write a Python Program to Count the frequecny of words appearing in a string. \n",
    "\n",
    "- Eg: Sheena loves eating apple and mango . Her sister also loves eating apple and mango"
   ]
  },
  {
   "cell_type": "code",
   "execution_count": 2,
   "id": "7abd7e53",
   "metadata": {},
   "outputs": [
    {
     "name": "stdout",
     "output_type": "stream",
     "text": [
      "Enter a string: Sheena loves eating apple and mango . Her sister also loves eating apple and mango\n",
      "{'Sheena': 1, 'loves': 2, 'eating': 2, 'apple': 2, 'and': 2, 'mango': 2, '.': 1, 'Her': 1, 'sister': 1, 'also': 1}\n"
     ]
    }
   ],
   "source": [
    "def freq_words():\n",
    "    str=input(\"Enter a string: \")\n",
    "    li = str.split()\n",
    "    d={}\n",
    "    \n",
    "    for i in li:\n",
    "        if i not in d.keys():\n",
    "            d[i] = 0\n",
    "        d[i] = d[i] + 1\n",
    "        \n",
    "    print(d)\n",
    "    \n",
    "freq_words()"
   ]
  },
  {
   "cell_type": "code",
   "execution_count": null,
   "id": "c19c60a2",
   "metadata": {},
   "outputs": [],
   "source": []
  }
 ],
 "metadata": {
  "kernelspec": {
   "display_name": "chatbotversion",
   "language": "python",
   "name": "python3"
  },
  "language_info": {
   "codemirror_mode": {
    "name": "ipython",
    "version": 3
   },
   "file_extension": ".py",
   "mimetype": "text/x-python",
   "name": "python",
   "nbconvert_exporter": "python",
   "pygments_lexer": "ipython3",
   "version": "3.10.13"
  }
 },
 "nbformat": 4,
 "nbformat_minor": 5
}
