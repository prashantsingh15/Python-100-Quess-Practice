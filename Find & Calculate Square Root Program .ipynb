{
 "cells": [
  {
   "cell_type": "markdown",
   "id": "cecab714",
   "metadata": {},
   "source": [
    "# Find and Calculate square root program"
   ]
  },
  {
   "cell_type": "code",
   "execution_count": 1,
   "id": "536c0e06",
   "metadata": {},
   "outputs": [
    {
     "name": "stdout",
     "output_type": "stream",
     "text": [
      "The square root of the given number is  8.0\n"
     ]
    }
   ],
   "source": [
    "# Solution -1 (Using Exponentiation) with predefined variable \n",
    "# num1 = int(input(\"Enter the number: \"))\n",
    "num = 64\n",
    "\n",
    "sqrt = num ** (1/2)\n",
    "\n",
    "print(\"The square root of the given number is \",sqrt)"
   ]
  },
  {
   "cell_type": "code",
   "execution_count": 5,
   "id": "10010c8a",
   "metadata": {},
   "outputs": [
    {
     "name": "stdout",
     "output_type": "stream",
     "text": [
      "Enter the number : 25\n",
      "The square root of the given number is:  5.0\n"
     ]
    }
   ],
   "source": [
    "# user defined variable\n",
    "\n",
    "num = int(input(\"Enter the number : \"))\n",
    "\n",
    "sqrt = num ** (1/2)\n",
    "\n",
    "print(\"The square root of the given number is: \", sqrt)"
   ]
  },
  {
   "cell_type": "code",
   "execution_count": null,
   "id": "adda9784",
   "metadata": {},
   "outputs": [],
   "source": []
  },
  {
   "cell_type": "code",
   "execution_count": null,
   "id": "df5ec970",
   "metadata": {},
   "outputs": [],
   "source": []
  }
 ],
 "metadata": {
  "kernelspec": {
   "display_name": "Python 3 (ipykernel)",
   "language": "python",
   "name": "python3"
  },
  "language_info": {
   "codemirror_mode": {
    "name": "ipython",
    "version": 3
   },
   "file_extension": ".py",
   "mimetype": "text/x-python",
   "name": "python",
   "nbconvert_exporter": "python",
   "pygments_lexer": "ipython3",
   "version": "3.11.5"
  }
 },
 "nbformat": 4,
 "nbformat_minor": 5
}
