{
 "cells": [
  {
   "cell_type": "markdown",
   "id": "15ac106e",
   "metadata": {},
   "source": [
    "## Find the largest among three numbers"
   ]
  },
  {
   "cell_type": "code",
   "execution_count": 2,
   "id": "638828d8",
   "metadata": {},
   "outputs": [
    {
     "name": "stdout",
     "output_type": "stream",
     "text": [
      "Enter the number num1: 10\n",
      "Enter the number num2: 12\n",
      "Enter the number num3: 13\n",
      "Num3 is greater than num1 and num2\n"
     ]
    }
   ],
   "source": [
    "num1 = int(input(\"Enter the number num1: \"))\n",
    "num2 = int(input(\"Enter the number num2: \"))\n",
    "num3 = int(input(\"Enter the number num3: \"))\n",
    "\n",
    "\n",
    "if num1 > num2 and num1 > num3:\n",
    "    print(\"Num1 is greater than num2 and num3\")\n",
    "elif num2 > num1 and num2 > num3:\n",
    "    print(\"Num2 is greater than num1 and num3\")\n",
    "    \n",
    "elif num3 > num1 and num3 > num2:\n",
    "    print(\"Num3 is greater than num1 and num2\")\n",
    "    \n",
    "else:\n",
    "    print(\"Num1 = Num2 = Num3\")"
   ]
  },
  {
   "cell_type": "code",
   "execution_count": null,
   "id": "ae2d63da",
   "metadata": {},
   "outputs": [],
   "source": []
  }
 ],
 "metadata": {
  "kernelspec": {
   "display_name": "Python 3 (ipykernel)",
   "language": "python",
   "name": "python3"
  },
  "language_info": {
   "codemirror_mode": {
    "name": "ipython",
    "version": 3
   },
   "file_extension": ".py",
   "mimetype": "text/x-python",
   "name": "python",
   "nbconvert_exporter": "python",
   "pygments_lexer": "ipython3",
   "version": "3.11.5"
  }
 },
 "nbformat": 4,
 "nbformat_minor": 5
}
