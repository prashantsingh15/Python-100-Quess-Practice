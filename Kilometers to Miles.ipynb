{
 "cells": [
  {
   "cell_type": "markdown",
   "id": "2fc981dd",
   "metadata": {},
   "source": [
    "# Write a python program to convert kilometers to miles"
   ]
  },
  {
   "cell_type": "code",
   "execution_count": 2,
   "id": "6f6f5e1a",
   "metadata": {},
   "outputs": [
    {
     "name": "stdout",
     "output_type": "stream",
     "text": [
      "Enter the kilometer: 10\n",
      "kilometers to miles  6.2139999999999995\n"
     ]
    }
   ],
   "source": [
    "km = float(input(\"Enter the kilometer: \"))\n",
    "\n",
    "miles = km * 0.6214\n",
    "\n",
    "print(\"kilometers to miles \" , miles)"
   ]
  },
  {
   "cell_type": "code",
   "execution_count": null,
   "id": "0cc88906",
   "metadata": {},
   "outputs": [],
   "source": []
  }
 ],
 "metadata": {
  "kernelspec": {
   "display_name": "Python 3 (ipykernel)",
   "language": "python",
   "name": "python3"
  },
  "language_info": {
   "codemirror_mode": {
    "name": "ipython",
    "version": 3
   },
   "file_extension": ".py",
   "mimetype": "text/x-python",
   "name": "python",
   "nbconvert_exporter": "python",
   "pygments_lexer": "ipython3",
   "version": "3.11.5"
  }
 },
 "nbformat": 4,
 "nbformat_minor": 5
}
